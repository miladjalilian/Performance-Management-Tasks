{
 "cells": [
  {
   "cell_type": "code",
   "execution_count": 1,
   "metadata": {},
   "outputs": [],
   "source": [
    "import pandas as pd\n",
    "import numpy as np\n",
    "import matplotlib.pyplot as plt\n",
    "%matplotlib inline"
   ]
  },
  {
   "cell_type": "code",
   "execution_count": 40,
   "metadata": {},
   "outputs": [],
   "source": [
    "df = []\n",
    "\n",
    "Er = pd.read_excel(r'D:\\Saeid Lte Congested 30 March\\WLL-ZTE\\Ericsson_WLL.xlsx')\n",
    "Er = Er.rename({'TCH_Congestion_Rate(Eric_Cell)':'TCH_Congestion_Rate', 'TCH_Availability(Eric_Cell)':'TCH_Availability', \n",
    "                '2G_Voice_Call_Drop_Rate(Eric_Cell)':'Voice_Call_Drop_Rate', 'TCH_Traffic(Eric_Cell)':'TCH_Traffic'},axis='columns')\n",
    "\n",
    "Hu = pd.read_excel(r'D:\\Saeid Lte Congested 30 March\\WLL-ZTE\\Huawei_WLL.xlsx')\n",
    "Hu = Hu.rename({'TCH_Cong(HU_Cell)':'TCH_Congestion_Rate', 'TCH_Availability(HU_Cell)':'TCH_Availability',\n",
    "                '2G_Voice_Call_Drop_Rate(HU_Cell)':'Voice_Call_Drop_Rate', 'TCH_Traffic(HU_Cell)':'TCH_Traffic'},axis='columns')\n",
    "\n",
    "No = pd.read_excel(r'D:\\Saeid Lte Congested 30 March\\WLL-ZTE\\Nokia_WLL.xlsx')\n",
    "No = No.rename({'TCH_Cong_Rate(Nokia_Cell)':'TCH_Congestion_Rate', 'TCH_Availability(Nokia_Cell)':'TCH_Availability',\n",
    "                '2G_Voice_Call_Drop_Rate(Nokia_Cell)':'Voice_Call_Drop_Rate', 'TCH_Traffic(Nokia_Cell)':'TCH_Traffic'},axis='columns')\n",
    "\n",
    "Zt_1 = pd.read_excel(r'D:\\Saeid Lte Congested 30 March\\WLL-ZTE\\ZTE_WLL_1.xlsx')\n",
    "Zt_1 = Zt_1.rename({'TCH_Congestion_V1':'TCH_Congestion_Rate', 'TCH_Inservicerate_AR':'TCH_Availability',\n",
    "                    'Call_Drop_Ratio_V1':'Voice_Call_Drop_Rate', 'TCH_Traffic_ERL_V1':'TCH_Traffic'},axis='columns')\n",
    "Zt_2 = pd.read_excel(r'D:\\Saeid Lte Congested 30 March\\WLL-ZTE\\ZTE_WLL_2.xlsx')\n",
    "Zt_2 = Zt_2.rename({'TCH_Congestion_V2':'TCH_Congestion_Rate', 'TCH_Inservice_Rate':'TCH_Availability',\n",
    "                    'Call_Drop_Ratio_V2_New':'Voice_Call_Drop_Rate', 'TCH_total_traffic_number(erl)':'TCH_Traffic'},axis='columns')\n",
    "\n",
    "\n",
    "df = pd.concat([Er, Hu, No, Zt_1, Zt_2])"
   ]
  },
  {
   "cell_type": "code",
   "execution_count": 41,
   "metadata": {},
   "outputs": [],
   "source": [
    "df['Vendor'] = df['ElementID'].str[-1:]\n",
    "df['Index'] = df['ElementID1'].str[:2]"
   ]
  },
  {
   "cell_type": "code",
   "execution_count": 42,
   "metadata": {},
   "outputs": [],
   "source": [
    "conditions = [(df['Vendor']=='W')&(df['ElementID']!='B548W'),\n",
    "             (df['Vendor']=='E'),\n",
    "             (df['Vendor']=='N')]\n",
    "\n",
    "choices = ['ZTE','Ericsson','Nokia']\n",
    "\n",
    "df['Vendor2'] = np.select(conditions, choices, default='Huawei')\n",
    "\n",
    "df.drop(columns='Vendor',inplace=True)\n",
    "df.rename(columns={'Vendor2':'Vendor'},inplace=True)"
   ]
  },
  {
   "cell_type": "code",
   "execution_count": 43,
   "metadata": {},
   "outputs": [],
   "source": [
    "df['Voice_Call_Drop_Rate2'] = np.where(df['Vendor']=='ZTE',100*df['Voice_Call_Drop_Rate'],1*df['Voice_Call_Drop_Rate'])\n",
    "df.drop(columns='Voice_Call_Drop_Rate',inplace=True)\n",
    "df.rename(columns={'Voice_Call_Drop_Rate2':'Voice_Call_Drop_Rate'},inplace=True)"
   ]
  },
  {
   "cell_type": "code",
   "execution_count": 44,
   "metadata": {},
   "outputs": [],
   "source": [
    "RecCount = df.groupby(by=['ElementID1','ElementID'],as_index=False)['TCH_Availability'].count()"
   ]
  },
  {
   "cell_type": "code",
   "execution_count": 45,
   "metadata": {},
   "outputs": [],
   "source": [
    "RecCount.rename(columns={'TCH_Availability':'Count'},inplace=True)"
   ]
  },
  {
   "cell_type": "code",
   "execution_count": 46,
   "metadata": {},
   "outputs": [],
   "source": [
    "df = df.merge(RecCount, how='left', on=['ElementID1','ElementID'])"
   ]
  },
  {
   "cell_type": "code",
   "execution_count": 47,
   "metadata": {},
   "outputs": [],
   "source": [
    "df.sort_values(by=['ElementID1','Count'],ascending=False,inplace=True)"
   ]
  },
  {
   "cell_type": "code",
   "execution_count": 48,
   "metadata": {},
   "outputs": [],
   "source": [
    "df.drop_duplicates(subset=['Date','ElementID1'],inplace=True)"
   ]
  },
  {
   "cell_type": "code",
   "execution_count": 49,
   "metadata": {},
   "outputs": [],
   "source": [
    "gr10 = df[df['TCH_Traffic']>10].groupby('ElementID1',as_index=False)['TCH_Traffic'].count()\n",
    "gr10.rename(columns={'TCH_Traffic':'Count>10Er'},inplace=True)"
   ]
  },
  {
   "cell_type": "code",
   "execution_count": 50,
   "metadata": {
    "scrolled": true
   },
   "outputs": [],
   "source": [
    "Avg_tr = df.groupby('ElementID1',as_index=False)['TCH_Traffic'].mean()\n",
    "Avg_tr.rename(columns={'TCH_Traffic':'AvgTCH_Traffic'},inplace=True)"
   ]
  },
  {
   "cell_type": "code",
   "execution_count": 51,
   "metadata": {},
   "outputs": [],
   "source": [
    "mr = pd.merge(Avg_tr, gr10, how='left', on='ElementID1')"
   ]
  },
  {
   "cell_type": "code",
   "execution_count": 52,
   "metadata": {},
   "outputs": [],
   "source": [
    "df = df.merge(mr, how='left',on='ElementID1')"
   ]
  },
  {
   "cell_type": "code",
   "execution_count": 53,
   "metadata": {},
   "outputs": [],
   "source": [
    "df.to_excel('D:\\Saeid Lte Congested 30 March\\WLL-ZTE\\Sample_test3.xlsx')"
   ]
  },
  {
   "cell_type": "code",
   "execution_count": 54,
   "metadata": {
    "collapsed": true
   },
   "outputs": [
    {
     "data": {
      "text/plain": [
       "14.0    127092\n",
       "12.0      7158\n",
       "13.0      6782\n",
       "8.0       4552\n",
       "11.0      3920\n",
       "7.0       2302\n",
       "10.0      1927\n",
       "9.0       1478\n",
       "1.0       1449\n",
       "6.0       1165\n",
       "2.0        994\n",
       "5.0        989\n",
       "3.0        811\n",
       "4.0        809\n",
       "Name: Count>10Er, dtype: int64"
      ]
     },
     "execution_count": 54,
     "metadata": {},
     "output_type": "execute_result"
    }
   ],
   "source": [
    "df['Count>10Er'].value_counts()"
   ]
  },
  {
   "cell_type": "code",
   "execution_count": 55,
   "metadata": {
    "scrolled": true
   },
   "outputs": [],
   "source": [
    "Avg_Drop = df.groupby('ElementID1',as_index=False)['Voice_Call_Drop_Rate'].mean()\n",
    "Avg_Drop.rename(columns={'Voice_Call_Drop_Rate':'AvgVoice_Call_Drop_Rate'},inplace=True)"
   ]
  },
  {
   "cell_type": "code",
   "execution_count": 56,
   "metadata": {},
   "outputs": [],
   "source": [
    "Avg_Drop['Index'] = Avg_Drop['ElementID1'].str[:2]"
   ]
  },
  {
   "cell_type": "code",
   "execution_count": 39,
   "metadata": {
    "collapsed": true
   },
   "outputs": [
    {
     "data": {
      "text/plain": [
       "Index\n",
       "AG    0.738348\n",
       "AR    3.747073\n",
       "AS    0.428266\n",
       "BU    4.285714\n",
       "ES         NaN\n",
       "FS    1.951220\n",
       "GL    1.954397\n",
       "GN    5.454545\n",
       "HN    3.098592\n",
       "HZ    3.194103\n",
       "IL    2.564103\n",
       "KB    1.492537\n",
       "KD    0.230415\n",
       "KH    2.284710\n",
       "KM    5.128205\n",
       "KS    0.894855\n",
       "KZ    6.870229\n",
       "LN    6.684492\n",
       "MA    5.210918\n",
       "MK         NaN\n",
       "QN    0.232019\n",
       "SB    6.321401\n",
       "SK    3.149606\n",
       "SM    2.631579\n",
       "YZ    2.020202\n",
       "ZN    0.194932\n",
       "er         NaN\n",
       "Name: Index, dtype: float64"
      ]
     },
     "execution_count": 39,
     "metadata": {},
     "output_type": "execute_result"
    }
   ],
   "source": [
    "100*Avg_Drop[Avg_Drop['AvgVoice_Call_Drop_Rate']>4].groupby('Index')['Index'].count()/Avg_Drop.groupby('Index')['Index'].count()"
   ]
  },
  {
   "cell_type": "code",
   "execution_count": 57,
   "metadata": {},
   "outputs": [],
   "source": [
    "Avg_Cong = df.groupby('ElementID1',as_index=False)['TCH_Congestion_Rate'].mean()\n",
    "Avg_Cong.rename(columns={'TCH_Congestion_Rate':'AvgTCH_Congestion_Rate'},inplace=True)"
   ]
  },
  {
   "cell_type": "code",
   "execution_count": 58,
   "metadata": {},
   "outputs": [],
   "source": [
    "Avg_Avail = df.groupby('ElementID1',as_index=False)['TCH_Availability'].mean()\n",
    "Avg_Avail.rename(columns={'TCH_Availability':'AvgTCH_Availability'},inplace=True)"
   ]
  },
  {
   "cell_type": "code",
   "execution_count": 59,
   "metadata": {},
   "outputs": [],
   "source": [
    "df = df.merge(Avg_Drop,how='left',on='ElementID1')\n",
    "df = df.merge(Avg_Cong,how='left',on='ElementID1')\n",
    "df = df.merge(Avg_Avail,how='left',on='ElementID1')"
   ]
  },
  {
   "cell_type": "code",
   "execution_count": 60,
   "metadata": {},
   "outputs": [],
   "source": [
    "dropgr4 = df[df['Voice_Call_Drop_Rate']>4].groupby('ElementID1',as_index=False)['Voice_Call_Drop_Rate'].count()\n",
    "dropgr4.rename(columns={'Voice_Call_Drop_Rate':'drop>4'},inplace=True)"
   ]
  },
  {
   "cell_type": "code",
   "execution_count": 61,
   "metadata": {},
   "outputs": [],
   "source": [
    "conggr2 = df[df['TCH_Congestion_Rate']>2].groupby('ElementID1',as_index=False)['TCH_Congestion_Rate'].count()\n",
    "conggr2.rename(columns={'TCH_Congestion_Rate':'cong>2'},inplace=True)"
   ]
  },
  {
   "cell_type": "code",
   "execution_count": 62,
   "metadata": {},
   "outputs": [],
   "source": [
    "availles90 = df[df['TCH_Availability']<90].groupby('ElementID1',as_index=False)['TCH_Availability'].count()\n",
    "availles90.rename(columns={'TCH_Availability':'avail<90'},inplace=True)"
   ]
  },
  {
   "cell_type": "code",
   "execution_count": 63,
   "metadata": {},
   "outputs": [],
   "source": [
    "df = df.merge(dropgr4,how='left',on='ElementID1')"
   ]
  },
  {
   "cell_type": "code",
   "execution_count": 64,
   "metadata": {},
   "outputs": [],
   "source": [
    "df = df.merge(conggr2,how='left',on='ElementID1')\n",
    "df = df.merge(availles90,how='left',on='ElementID1')"
   ]
  },
  {
   "cell_type": "code",
   "execution_count": 65,
   "metadata": {},
   "outputs": [],
   "source": [
    "df_drop = []\n",
    "df_cong = []\n",
    "df_avail = []"
   ]
  },
  {
   "cell_type": "code",
   "execution_count": 66,
   "metadata": {},
   "outputs": [],
   "source": [
    "df_drop = df[df['drop>4']>6]\n",
    "df_cong = df[df['cong>2']>6]\n",
    "df_avail = df[df['avail<90']>6]"
   ]
  },
  {
   "cell_type": "code",
   "execution_count": 67,
   "metadata": {
    "scrolled": true
   },
   "outputs": [
    {
     "name": "stderr",
     "output_type": "stream",
     "text": [
      "c:\\users\\milad\\appdata\\local\\programs\\python\\python37-32\\lib\\site-packages\\pandas\\core\\frame.py:3697: SettingWithCopyWarning: \n",
      "A value is trying to be set on a copy of a slice from a DataFrame\n",
      "\n",
      "See the caveats in the documentation: http://pandas.pydata.org/pandas-docs/stable/indexing.html#indexing-view-versus-copy\n",
      "  errors=errors)\n",
      "c:\\users\\milad\\appdata\\local\\programs\\python\\python37-32\\lib\\site-packages\\ipykernel_launcher.py:4: SettingWithCopyWarning: \n",
      "A value is trying to be set on a copy of a slice from a DataFrame\n",
      "\n",
      "See the caveats in the documentation: http://pandas.pydata.org/pandas-docs/stable/indexing.html#indexing-view-versus-copy\n",
      "  after removing the cwd from sys.path.\n"
     ]
    }
   ],
   "source": [
    "df_drop.drop(columns=['Date','TCH_Congestion_Rate','TCH_Availability','TCH_Traffic','Voice_Call_Drop_Rate',\n",
    "                     'AvgTCH_Congestion_Rate','AvgTCH_Availability','cong>2','avail<90'],inplace=True)\n",
    "\n",
    "df_drop.drop_duplicates(inplace=True)"
   ]
  },
  {
   "cell_type": "code",
   "execution_count": 68,
   "metadata": {
    "scrolled": true
   },
   "outputs": [
    {
     "name": "stderr",
     "output_type": "stream",
     "text": [
      "c:\\users\\milad\\appdata\\local\\programs\\python\\python37-32\\lib\\site-packages\\ipykernel_launcher.py:4: SettingWithCopyWarning: \n",
      "A value is trying to be set on a copy of a slice from a DataFrame\n",
      "\n",
      "See the caveats in the documentation: http://pandas.pydata.org/pandas-docs/stable/indexing.html#indexing-view-versus-copy\n",
      "  after removing the cwd from sys.path.\n"
     ]
    }
   ],
   "source": [
    "df_cong.drop(columns=['Date','TCH_Congestion_Rate','TCH_Availability','TCH_Traffic','Voice_Call_Drop_Rate',\n",
    "                     'AvgTCH_Availability','AvgVoice_Call_Drop_Rate','avail<90','drop>4'],inplace=True)\n",
    "\n",
    "df_cong.drop_duplicates(inplace=True)"
   ]
  },
  {
   "cell_type": "code",
   "execution_count": 69,
   "metadata": {},
   "outputs": [
    {
     "name": "stderr",
     "output_type": "stream",
     "text": [
      "c:\\users\\milad\\appdata\\local\\programs\\python\\python37-32\\lib\\site-packages\\ipykernel_launcher.py:4: SettingWithCopyWarning: \n",
      "A value is trying to be set on a copy of a slice from a DataFrame\n",
      "\n",
      "See the caveats in the documentation: http://pandas.pydata.org/pandas-docs/stable/indexing.html#indexing-view-versus-copy\n",
      "  after removing the cwd from sys.path.\n"
     ]
    }
   ],
   "source": [
    "df_avail.drop(columns=['Date','TCH_Congestion_Rate','TCH_Availability','TCH_Traffic','Voice_Call_Drop_Rate',\n",
    "                     'AvgTCH_Congestion_Rate','AvgVoice_Call_Drop_Rate','cong>2','drop>4'],inplace=True)\n",
    "\n",
    "df_avail.drop_duplicates(inplace=True)"
   ]
  },
  {
   "cell_type": "code",
   "execution_count": 76,
   "metadata": {},
   "outputs": [],
   "source": [
    "writer = pd.ExcelWriter(r'D:\\Saeid Lte Congested 30 March\\WLL-ZTE\\result2.xlsx', engine='xlsxwriter')\n",
    "df_drop.to_excel(writer,sheet_name='Drop')\n",
    "df_cong.to_excel(writer,sheet_name='Congestion')\n",
    "df_avail.to_excel(writer,sheet_name='Availability')\n",
    "writer.save()"
   ]
  },
  {
   "cell_type": "code",
   "execution_count": 74,
   "metadata": {
    "collapsed": true
   },
   "outputs": [
    {
     "ename": "KeyError",
     "evalue": "'Index'",
     "output_type": "error",
     "traceback": [
      "\u001b[1;31m---------------------------------------------------------------------------\u001b[0m",
      "\u001b[1;31mKeyError\u001b[0m                                  Traceback (most recent call last)",
      "\u001b[1;32m<ipython-input-74-f7e56ceb1b9d>\u001b[0m in \u001b[0;36m<module>\u001b[1;34m\u001b[0m\n\u001b[1;32m----> 1\u001b[1;33m \u001b[1;36m100\u001b[0m\u001b[1;33m*\u001b[0m\u001b[0mdf_drop\u001b[0m\u001b[1;33m.\u001b[0m\u001b[0mgroupby\u001b[0m\u001b[1;33m(\u001b[0m\u001b[1;34m'Index'\u001b[0m\u001b[1;33m)\u001b[0m\u001b[1;33m[\u001b[0m\u001b[1;34m'Index'\u001b[0m\u001b[1;33m]\u001b[0m\u001b[1;33m.\u001b[0m\u001b[0mcount\u001b[0m\u001b[1;33m(\u001b[0m\u001b[1;33m)\u001b[0m\u001b[1;33m/\u001b[0m\u001b[0mAvg_Drop\u001b[0m\u001b[1;33m.\u001b[0m\u001b[0mgroupby\u001b[0m\u001b[1;33m(\u001b[0m\u001b[1;34m'Index'\u001b[0m\u001b[1;33m)\u001b[0m\u001b[1;33m[\u001b[0m\u001b[1;34m'Index'\u001b[0m\u001b[1;33m]\u001b[0m\u001b[1;33m.\u001b[0m\u001b[0mcount\u001b[0m\u001b[1;33m(\u001b[0m\u001b[1;33m)\u001b[0m\u001b[1;33m\u001b[0m\u001b[0m\n\u001b[0m",
      "\u001b[1;32mc:\\users\\milad\\appdata\\local\\programs\\python\\python37-32\\lib\\site-packages\\pandas\\core\\generic.py\u001b[0m in \u001b[0;36mgroupby\u001b[1;34m(self, by, axis, level, as_index, sort, group_keys, squeeze, observed, **kwargs)\u001b[0m\n\u001b[0;32m   6663\u001b[0m         return groupby(self, by=by, axis=axis, level=level, as_index=as_index,\n\u001b[0;32m   6664\u001b[0m                        \u001b[0msort\u001b[0m\u001b[1;33m=\u001b[0m\u001b[0msort\u001b[0m\u001b[1;33m,\u001b[0m \u001b[0mgroup_keys\u001b[0m\u001b[1;33m=\u001b[0m\u001b[0mgroup_keys\u001b[0m\u001b[1;33m,\u001b[0m \u001b[0msqueeze\u001b[0m\u001b[1;33m=\u001b[0m\u001b[0msqueeze\u001b[0m\u001b[1;33m,\u001b[0m\u001b[1;33m\u001b[0m\u001b[0m\n\u001b[1;32m-> 6665\u001b[1;33m                        observed=observed, **kwargs)\n\u001b[0m\u001b[0;32m   6666\u001b[0m \u001b[1;33m\u001b[0m\u001b[0m\n\u001b[0;32m   6667\u001b[0m     def asfreq(self, freq, method=None, how=None, normalize=False,\n",
      "\u001b[1;32mc:\\users\\milad\\appdata\\local\\programs\\python\\python37-32\\lib\\site-packages\\pandas\\core\\groupby\\groupby.py\u001b[0m in \u001b[0;36mgroupby\u001b[1;34m(obj, by, **kwds)\u001b[0m\n\u001b[0;32m   2150\u001b[0m         \u001b[1;32mraise\u001b[0m \u001b[0mTypeError\u001b[0m\u001b[1;33m(\u001b[0m\u001b[1;34m'invalid type: %s'\u001b[0m \u001b[1;33m%\u001b[0m \u001b[0mtype\u001b[0m\u001b[1;33m(\u001b[0m\u001b[0mobj\u001b[0m\u001b[1;33m)\u001b[0m\u001b[1;33m)\u001b[0m\u001b[1;33m\u001b[0m\u001b[0m\n\u001b[0;32m   2151\u001b[0m \u001b[1;33m\u001b[0m\u001b[0m\n\u001b[1;32m-> 2152\u001b[1;33m     \u001b[1;32mreturn\u001b[0m \u001b[0mklass\u001b[0m\u001b[1;33m(\u001b[0m\u001b[0mobj\u001b[0m\u001b[1;33m,\u001b[0m \u001b[0mby\u001b[0m\u001b[1;33m,\u001b[0m \u001b[1;33m**\u001b[0m\u001b[0mkwds\u001b[0m\u001b[1;33m)\u001b[0m\u001b[1;33m\u001b[0m\u001b[0m\n\u001b[0m\u001b[0;32m   2153\u001b[0m \u001b[1;33m\u001b[0m\u001b[0m\n\u001b[0;32m   2154\u001b[0m \u001b[1;33m\u001b[0m\u001b[0m\n",
      "\u001b[1;32mc:\\users\\milad\\appdata\\local\\programs\\python\\python37-32\\lib\\site-packages\\pandas\\core\\groupby\\groupby.py\u001b[0m in \u001b[0;36m__init__\u001b[1;34m(self, obj, keys, axis, level, grouper, exclusions, selection, as_index, sort, group_keys, squeeze, observed, **kwargs)\u001b[0m\n\u001b[0;32m    597\u001b[0m                                                     \u001b[0msort\u001b[0m\u001b[1;33m=\u001b[0m\u001b[0msort\u001b[0m\u001b[1;33m,\u001b[0m\u001b[1;33m\u001b[0m\u001b[0m\n\u001b[0;32m    598\u001b[0m                                                     \u001b[0mobserved\u001b[0m\u001b[1;33m=\u001b[0m\u001b[0mobserved\u001b[0m\u001b[1;33m,\u001b[0m\u001b[1;33m\u001b[0m\u001b[0m\n\u001b[1;32m--> 599\u001b[1;33m                                                     mutated=self.mutated)\n\u001b[0m\u001b[0;32m    600\u001b[0m \u001b[1;33m\u001b[0m\u001b[0m\n\u001b[0;32m    601\u001b[0m         \u001b[0mself\u001b[0m\u001b[1;33m.\u001b[0m\u001b[0mobj\u001b[0m \u001b[1;33m=\u001b[0m \u001b[0mobj\u001b[0m\u001b[1;33m\u001b[0m\u001b[0m\n",
      "\u001b[1;32mc:\\users\\milad\\appdata\\local\\programs\\python\\python37-32\\lib\\site-packages\\pandas\\core\\groupby\\groupby.py\u001b[0m in \u001b[0;36m_get_grouper\u001b[1;34m(obj, key, axis, level, sort, observed, mutated, validate)\u001b[0m\n\u001b[0;32m   3289\u001b[0m                 \u001b[0min_axis\u001b[0m\u001b[1;33m,\u001b[0m \u001b[0mname\u001b[0m\u001b[1;33m,\u001b[0m \u001b[0mlevel\u001b[0m\u001b[1;33m,\u001b[0m \u001b[0mgpr\u001b[0m \u001b[1;33m=\u001b[0m \u001b[1;32mFalse\u001b[0m\u001b[1;33m,\u001b[0m \u001b[1;32mNone\u001b[0m\u001b[1;33m,\u001b[0m \u001b[0mgpr\u001b[0m\u001b[1;33m,\u001b[0m \u001b[1;32mNone\u001b[0m\u001b[1;33m\u001b[0m\u001b[0m\n\u001b[0;32m   3290\u001b[0m             \u001b[1;32melse\u001b[0m\u001b[1;33m:\u001b[0m\u001b[1;33m\u001b[0m\u001b[0m\n\u001b[1;32m-> 3291\u001b[1;33m                 \u001b[1;32mraise\u001b[0m \u001b[0mKeyError\u001b[0m\u001b[1;33m(\u001b[0m\u001b[0mgpr\u001b[0m\u001b[1;33m)\u001b[0m\u001b[1;33m\u001b[0m\u001b[0m\n\u001b[0m\u001b[0;32m   3292\u001b[0m         \u001b[1;32melif\u001b[0m \u001b[0misinstance\u001b[0m\u001b[1;33m(\u001b[0m\u001b[0mgpr\u001b[0m\u001b[1;33m,\u001b[0m \u001b[0mGrouper\u001b[0m\u001b[1;33m)\u001b[0m \u001b[1;32mand\u001b[0m \u001b[0mgpr\u001b[0m\u001b[1;33m.\u001b[0m\u001b[0mkey\u001b[0m \u001b[1;32mis\u001b[0m \u001b[1;32mnot\u001b[0m \u001b[1;32mNone\u001b[0m\u001b[1;33m:\u001b[0m\u001b[1;33m\u001b[0m\u001b[0m\n\u001b[0;32m   3293\u001b[0m             \u001b[1;31m# Add key to exclusions\u001b[0m\u001b[1;33m\u001b[0m\u001b[1;33m\u001b[0m\u001b[0m\n",
      "\u001b[1;31mKeyError\u001b[0m: 'Index'"
     ]
    }
   ],
   "source": [
    "100*df_drop.groupby('Index')['Index'].count()/Avg_Drop.groupby('Index')['Index'].count()"
   ]
  },
  {
   "cell_type": "code",
   "execution_count": 73,
   "metadata": {
    "collapsed": true
   },
   "outputs": [
    {
     "data": {
      "text/plain": [
       "Index\n",
       "AG    2167\n",
       "AR     427\n",
       "AS    1401\n",
       "BU      70\n",
       "ES     205\n",
       "FS     615\n",
       "GL     307\n",
       "GN     165\n",
       "HN     355\n",
       "HZ     407\n",
       "IL      39\n",
       "KB     201\n",
       "KD     434\n",
       "KH     569\n",
       "KM     351\n",
       "KS     447\n",
       "KZ     393\n",
       "LN     374\n",
       "MA     403\n",
       "MK     207\n",
       "QN     431\n",
       "SB    1313\n",
       "SK     254\n",
       "SM      76\n",
       "YZ      99\n",
       "ZN     513\n",
       "er       3\n",
       "Name: Index, dtype: int64"
      ]
     },
     "execution_count": 73,
     "metadata": {},
     "output_type": "execute_result"
    }
   ],
   "source": [
    "Avg_Drop.groupby('Index')['Index'].count()"
   ]
  },
  {
   "cell_type": "code",
   "execution_count": 72,
   "metadata": {},
   "outputs": [],
   "source": [
    "Avg_Cong['Index'] = Avg_Cong['ElementID1'].str[:2]\n",
    "Avg_Avail['Index'] = Avg_Avail['ElementID1'].str[:2]"
   ]
  },
  {
   "cell_type": "code",
   "execution_count": 75,
   "metadata": {
    "collapsed": true
   },
   "outputs": [
    {
     "data": {
      "text/plain": [
       "Index\n",
       "AG    2167\n",
       "AR     427\n",
       "AS    1401\n",
       "BU      70\n",
       "ES     205\n",
       "FS     615\n",
       "GL     307\n",
       "GN     165\n",
       "HN     355\n",
       "HZ     407\n",
       "IL      39\n",
       "KB     201\n",
       "KD     434\n",
       "KH     569\n",
       "KM     351\n",
       "KS     447\n",
       "KZ     393\n",
       "LN     374\n",
       "MA     403\n",
       "MK     207\n",
       "QN     431\n",
       "SB    1313\n",
       "SK     254\n",
       "SM      76\n",
       "YZ      99\n",
       "ZN     513\n",
       "er       3\n",
       "Name: Index, dtype: int64"
      ]
     },
     "execution_count": 75,
     "metadata": {},
     "output_type": "execute_result"
    }
   ],
   "source": [
    "Avg_Cong.groupby('Index')['Index'].count()"
   ]
  },
  {
   "cell_type": "code",
   "execution_count": 125,
   "metadata": {},
   "outputs": [],
   "source": [
    "dr_dash = 100*df_drop.groupby('Index')['Index'].count()/Avg_Drop.groupby('Index')['Index'].count()\n",
    "cong_dash = 100*df_cong.groupby('Index')['Index'].count()/Avg_Cong.groupby('Index')['Index'].count()\n",
    "avail_dash = 100*df_avail.groupby('Index')['Index'].count()/Avg_Avail.groupby('Index')['Index'].count()"
   ]
  },
  {
   "cell_type": "code",
   "execution_count": 128,
   "metadata": {},
   "outputs": [],
   "source": [
    "writer = pd.ExcelWriter(r'D:\\Saeid Lte Congested 30 March\\WLL-ZTE\\dash.xlsx', engine='xlsxwriter')\n",
    "dr_dash.to_excel(writer,sheet_name='Drop')\n",
    "cong_dash.to_excel(writer,sheet_name='Congestion')\n",
    "avail_dash.to_excel(writer,sheet_name='Availability')\n",
    "writer.save()"
   ]
  },
  {
   "cell_type": "code",
   "execution_count": null,
   "metadata": {},
   "outputs": [],
   "source": []
  }
 ],
 "metadata": {
  "kernelspec": {
   "display_name": "Python 3",
   "language": "python",
   "name": "python3"
  },
  "language_info": {
   "codemirror_mode": {
    "name": "ipython",
    "version": 3
   },
   "file_extension": ".py",
   "mimetype": "text/x-python",
   "name": "python",
   "nbconvert_exporter": "python",
   "pygments_lexer": "ipython3",
   "version": "3.7.0"
  }
 },
 "nbformat": 4,
 "nbformat_minor": 2
}
