{
 "cells": [
  {
   "cell_type": "code",
   "execution_count": 1,
   "metadata": {},
   "outputs": [],
   "source": [
    "import pandas as pd\n",
    "import numpy as np"
   ]
  },
  {
   "cell_type": "code",
   "execution_count": 2,
   "metadata": {},
   "outputs": [],
   "source": [
    "df1=pd.read_excel('F:\\CC2 CELL2019_03_01\\CC2 CELL2019_03_01.xlsx',sheet_name='CC2 NOKIA CELL Hourly')"
   ]
  },
  {
   "cell_type": "code",
   "execution_count": 9,
   "metadata": {},
   "outputs": [],
   "source": [
    "df2=pd.read_excel('F:\\RD2 CELL2019_03_01\\RD2 CELL2019_03_01.xlsx',sheet_name='RD2 Nokia CELL Hourly')"
   ]
  },
  {
   "cell_type": "code",
   "execution_count": 6,
   "metadata": {
    "scrolled": true
   },
   "outputs": [
    {
     "data": {
      "text/plain": [
       "Index(['BSC', 'Seg_Name', 'TRX_COUNT', 'REGION', 'PROVINCE', 'LAC', 'CID',\n",
       "       'Date', 'TCH_Traffic', 'Available_TCH(Nokia_SEG)',\n",
       "       'HTCH_Traffic(Nokia_SEG)', 'SDCCH_MHT(Nokia_SEG)',\n",
       "       'TCH_Availability(Nokia_SEG)', 'AMRFR_Usage(Nokia_SEG)',\n",
       "       'AMRHR_Usage(Nokia_SEG)', 'CSSR_MCI(Nokia_SEG)',\n",
       "       'SDCCH_Congestion_Rate(Nokia_SEG)', 'SDCCH_Drop_Rate(Nokia_SEG)',\n",
       "       'TCH_Assignment_FR(Nokia_SEG)', 'TCH_Cong_Rate(Nokia_SEG)',\n",
       "       'IHSR(Nokia_SEG)', 'OHSR(Nokia_SEG)',\n",
       "       'SDCCH_Access_Success_Rate(Nokia_SEG)', 'CDR2_iRAT(Nokia_SEG)',\n",
       "       'RxQuality_DL(Nokia_SEG)', 'RxQuality_UL(Nokia_SEG)'],\n",
       "      dtype='object')"
      ]
     },
     "execution_count": 6,
     "metadata": {},
     "output_type": "execute_result"
    }
   ],
   "source": [
    "df1.columns"
   ]
  },
  {
   "cell_type": "code",
   "execution_count": 11,
   "metadata": {},
   "outputs": [],
   "source": [
    "df2.rename(columns={'DATETIME':'Date','SEG':'Seg_Name'},inplace=True)"
   ]
  },
  {
   "cell_type": "code",
   "execution_count": 12,
   "metadata": {},
   "outputs": [
    {
     "data": {
      "text/plain": [
       "Index(['BSC', 'Seg_Name', 'Date', 'REGION', 'PROVINCE', 'LAC', 'CID',\n",
       "       'TBF_Establishment_SR(DL+UL)', 'TBF_Drop_Rate(UL+DL)',\n",
       "       'LLC_throughput_GPRS_DL(kbps)(Nokia_SEG)',\n",
       "       'LLC_throughput_EDGE_DL(kbps)(Nokia_SEG)',\n",
       "       'THR_DL_GPRS_PER_TS(Nokia_SEG)', 'THR_DL_EGPRS_PER_TS(Nokia_SEG)',\n",
       "       'Payload_Data(UL)(Nokia_SEG)', 'Payload_Data(DL)(Nokia_SEG)',\n",
       "       'Payload_Data(UL+DL)(Nokia_SEG)',\n",
       "       'Edge_shared_payload(UL+DL)(Nokia_SEG)', 'RD2', 'TRX'],\n",
       "      dtype='object')"
      ]
     },
     "execution_count": 12,
     "metadata": {},
     "output_type": "execute_result"
    }
   ],
   "source": [
    "df2.columns"
   ]
  },
  {
   "cell_type": "code",
   "execution_count": 13,
   "metadata": {},
   "outputs": [],
   "source": [
    "df3=pd.merge(df1,df2,how='left',on=['Seg_Name','Date'])"
   ]
  },
  {
   "cell_type": "code",
   "execution_count": 18,
   "metadata": {},
   "outputs": [],
   "source": [
    "for c in df3:\n",
    "    if c.endswith('_y'):\n",
    "        df3.drop(columns=c,inplace=True)\n",
    "        "
   ]
  },
  {
   "cell_type": "code",
   "execution_count": 23,
   "metadata": {},
   "outputs": [],
   "source": [
    "for col in df3:\n",
    "    if col.endswith('_x'):\n",
    "        df3.rename(columns={col:col.rstrip('_x')}, inplace=True)"
   ]
  },
  {
   "cell_type": "code",
   "execution_count": 24,
   "metadata": {
    "scrolled": true
   },
   "outputs": [
    {
     "name": "stdout",
     "output_type": "stream",
     "text": [
      "BSC\n",
      "Seg_Name\n",
      "TRX_COUNT\n",
      "REGION\n",
      "PROVINCE\n",
      "LAC\n",
      "CID\n",
      "Date\n",
      "TCH_Traffic\n",
      "Available_TCH(Nokia_SEG)\n",
      "HTCH_Traffic(Nokia_SEG)\n",
      "SDCCH_MHT(Nokia_SEG)\n",
      "TCH_Availability(Nokia_SEG)\n",
      "AMRFR_Usage(Nokia_SEG)\n",
      "AMRHR_Usage(Nokia_SEG)\n",
      "CSSR_MCI(Nokia_SEG)\n",
      "SDCCH_Congestion_Rate(Nokia_SEG)\n",
      "SDCCH_Drop_Rate(Nokia_SEG)\n",
      "TCH_Assignment_FR(Nokia_SEG)\n",
      "TCH_Cong_Rate(Nokia_SEG)\n",
      "IHSR(Nokia_SEG)\n",
      "OHSR(Nokia_SEG)\n",
      "SDCCH_Access_Success_Rate(Nokia_SEG)\n",
      "CDR2_iRAT(Nokia_SEG)\n",
      "RxQuality_DL(Nokia_SEG)\n",
      "RxQuality_UL(Nokia_SEG)\n",
      "TBF_Establishment_SR(DL+UL)\n",
      "TBF_Drop_Rate(UL+DL)\n",
      "LLC_throughput_GPRS_DL(kbps)(Nokia_SEG)\n",
      "LLC_throughput_EDGE_DL(kbps)(Nokia_SEG)\n",
      "THR_DL_GPRS_PER_TS(Nokia_SEG)\n",
      "THR_DL_EGPRS_PER_TS(Nokia_SEG)\n",
      "Payload_Data(UL)(Nokia_SEG)\n",
      "Payload_Data(DL)(Nokia_SEG)\n",
      "Payload_Data(UL+DL)(Nokia_SEG)\n",
      "Edge_shared_payload(UL+DL)(Nokia_SEG)\n",
      "RD2\n",
      "TRX\n"
     ]
    }
   ],
   "source": [
    "for col in df3:\n",
    "    print(col)"
   ]
  },
  {
   "cell_type": "code",
   "execution_count": 26,
   "metadata": {},
   "outputs": [],
   "source": [
    "Nokia_2G=df3.to_excel('Nokia_2G.xlsx')"
   ]
  },
  {
   "cell_type": "code",
   "execution_count": 36,
   "metadata": {},
   "outputs": [
    {
     "data": {
      "text/plain": [
       "BSC                                             0\n",
       "Seg_Name                                      454\n",
       "TRX_COUNT                                     454\n",
       "REGION                                        454\n",
       "PROVINCE                                      454\n",
       "LAC                                           454\n",
       "CID                                           454\n",
       "Date                                            0\n",
       "TCH_Traffic                                     0\n",
       "Available_TCH(Nokia_SEG)                        0\n",
       "HTCH_Traffic(Nokia_SEG)                         0\n",
       "SDCCH_MHT(Nokia_SEG)                            0\n",
       "TCH_Availability(Nokia_SEG)                   238\n",
       "AMRFR_Usage(Nokia_SEG)                      27443\n",
       "AMRHR_Usage(Nokia_SEG)                      27443\n",
       "CSSR_MCI(Nokia_SEG)                         33949\n",
       "SDCCH_Congestion_Rate(Nokia_SEG)             8382\n",
       "SDCCH_Drop_Rate(Nokia_SEG)                   8384\n",
       "TCH_Assignment_FR(Nokia_SEG)                33949\n",
       "TCH_Cong_Rate(Nokia_SEG)                    33936\n",
       "IHSR(Nokia_SEG)                             70758\n",
       "OHSR(Nokia_SEG)                             68878\n",
       "SDCCH_Access_Success_Rate(Nokia_SEG)         8384\n",
       "CDR2_iRAT(Nokia_SEG)                        42367\n",
       "RxQuality_DL(Nokia_SEG)                     28458\n",
       "RxQuality_UL(Nokia_SEG)                     28349\n",
       "TBF_Establishment_SR(DL+UL)                 23885\n",
       "TBF_Drop_Rate(UL+DL)                        25002\n",
       "LLC_throughput_GPRS_DL(kbps)(Nokia_SEG)     26179\n",
       "LLC_throughput_EDGE_DL(kbps)(Nokia_SEG)     26179\n",
       "THR_DL_GPRS_PER_TS(Nokia_SEG)              126473\n",
       "THR_DL_EGPRS_PER_TS(Nokia_SEG)              87206\n",
       "Payload_Data(UL)(Nokia_SEG)                 23309\n",
       "Payload_Data(DL)(Nokia_SEG)                 23309\n",
       "Payload_Data(UL+DL)(Nokia_SEG)              23309\n",
       "Edge_shared_payload(UL+DL)(Nokia_SEG)       28150\n",
       "RD2                                        126473\n",
       "TRX                                         23309\n",
       "dtype: int64"
      ]
     },
     "execution_count": 36,
     "metadata": {},
     "output_type": "execute_result"
    }
   ],
   "source": [
    "df3.isnull().sum()"
   ]
  },
  {
   "cell_type": "code",
   "execution_count": null,
   "metadata": {},
   "outputs": [],
   "source": []
  }
 ],
 "metadata": {
  "kernelspec": {
   "display_name": "Python 3",
   "language": "python",
   "name": "python3"
  },
  "language_info": {
   "codemirror_mode": {
    "name": "ipython",
    "version": 3
   },
   "file_extension": ".py",
   "mimetype": "text/x-python",
   "name": "python",
   "nbconvert_exporter": "python",
   "pygments_lexer": "ipython3",
   "version": "3.6.5"
  }
 },
 "nbformat": 4,
 "nbformat_minor": 2
}
