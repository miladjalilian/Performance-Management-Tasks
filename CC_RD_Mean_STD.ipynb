{
 "cells": [
  {
   "cell_type": "code",
   "execution_count": 1,
   "metadata": {},
   "outputs": [],
   "source": [
    "import pandas as pd\n",
    "import numpy as np\n",
    "import math as mt"
   ]
  },
  {
   "cell_type": "code",
   "execution_count": 6,
   "metadata": {},
   "outputs": [],
   "source": [
    "df=pd.read_csv(r'D:\\MCI Performance Pro\\2019 Daily jobs\\Saeed Requests\\CC2_BH.csv')"
   ]
  },
  {
   "cell_type": "code",
   "execution_count": 67,
   "metadata": {
    "collapsed": true
   },
   "outputs": [
    {
     "data": {
      "text/html": [
       "<div>\n",
       "<style scoped>\n",
       "    .dataframe tbody tr th:only-of-type {\n",
       "        vertical-align: middle;\n",
       "    }\n",
       "\n",
       "    .dataframe tbody tr th {\n",
       "        vertical-align: top;\n",
       "    }\n",
       "\n",
       "    .dataframe thead th {\n",
       "        text-align: right;\n",
       "    }\n",
       "</style>\n",
       "<table border=\"1\" class=\"dataframe\">\n",
       "  <thead>\n",
       "    <tr style=\"text-align: right;\">\n",
       "      <th></th>\n",
       "      <th>BSC</th>\n",
       "      <th>CELL</th>\n",
       "      <th>REGION</th>\n",
       "      <th>PROVINCE</th>\n",
       "      <th>Date</th>\n",
       "      <th>TCH_Traffic_BH</th>\n",
       "      <th>Available_TCH</th>\n",
       "      <th>HTCH_Traffic</th>\n",
       "      <th>SDCCH_MHT</th>\n",
       "      <th>TCH_Availability</th>\n",
       "      <th>...</th>\n",
       "      <th>SDCCH_Congestion_Rate</th>\n",
       "      <th>SDCCH_Drop_Rate</th>\n",
       "      <th>TCH_Assignment_FR</th>\n",
       "      <th>TCH_Cong_Rate</th>\n",
       "      <th>IHSR</th>\n",
       "      <th>OHSR</th>\n",
       "      <th>SDCCH_Access_Success_Rate</th>\n",
       "      <th>CDR</th>\n",
       "      <th>RxQuality_DL</th>\n",
       "      <th>RxQuality_UL</th>\n",
       "    </tr>\n",
       "  </thead>\n",
       "  <tbody>\n",
       "    <tr>\n",
       "      <th>0</th>\n",
       "      <td>B026E</td>\n",
       "      <td>TH4069B</td>\n",
       "      <td>Tehran</td>\n",
       "      <td>Tehran</td>\n",
       "      <td>2018-02-27 14:00:00</td>\n",
       "      <td>0.181</td>\n",
       "      <td>13.000</td>\n",
       "      <td>0.008</td>\n",
       "      <td>2.333</td>\n",
       "      <td>100.000</td>\n",
       "      <td>...</td>\n",
       "      <td>0.0</td>\n",
       "      <td>0.000</td>\n",
       "      <td>NaN</td>\n",
       "      <td>NaN</td>\n",
       "      <td>100.000</td>\n",
       "      <td>100.000</td>\n",
       "      <td>100.000</td>\n",
       "      <td>0.000</td>\n",
       "      <td>100.000</td>\n",
       "      <td>98.064</td>\n",
       "    </tr>\n",
       "    <tr>\n",
       "      <th>1</th>\n",
       "      <td>B026E</td>\n",
       "      <td>TH5093A</td>\n",
       "      <td>Tehran</td>\n",
       "      <td>Tehran</td>\n",
       "      <td>2018-02-27 12:00:00</td>\n",
       "      <td>5.881</td>\n",
       "      <td>20.000</td>\n",
       "      <td>0.006</td>\n",
       "      <td>3.229</td>\n",
       "      <td>100.000</td>\n",
       "      <td>...</td>\n",
       "      <td>0.0</td>\n",
       "      <td>0.000</td>\n",
       "      <td>0.000</td>\n",
       "      <td>0.0</td>\n",
       "      <td>87.640</td>\n",
       "      <td>99.038</td>\n",
       "      <td>99.600</td>\n",
       "      <td>0.000</td>\n",
       "      <td>95.857</td>\n",
       "      <td>99.676</td>\n",
       "    </tr>\n",
       "    <tr>\n",
       "      <th>2</th>\n",
       "      <td>B026E</td>\n",
       "      <td>TH0038B</td>\n",
       "      <td>Tehran</td>\n",
       "      <td>Tehran</td>\n",
       "      <td>2018-02-27 11:00:00</td>\n",
       "      <td>29.272</td>\n",
       "      <td>35.989</td>\n",
       "      <td>9.433</td>\n",
       "      <td>3.375</td>\n",
       "      <td>99.969</td>\n",
       "      <td>...</td>\n",
       "      <td>0.0</td>\n",
       "      <td>0.521</td>\n",
       "      <td>0.063</td>\n",
       "      <td>0.0</td>\n",
       "      <td>100.069</td>\n",
       "      <td>99.599</td>\n",
       "      <td>96.286</td>\n",
       "      <td>0.257</td>\n",
       "      <td>98.538</td>\n",
       "      <td>97.010</td>\n",
       "    </tr>\n",
       "    <tr>\n",
       "      <th>3</th>\n",
       "      <td>B026E</td>\n",
       "      <td>TH2095C</td>\n",
       "      <td>Tehran</td>\n",
       "      <td>Tehran</td>\n",
       "      <td>2018-02-27 20:00:00</td>\n",
       "      <td>7.700</td>\n",
       "      <td>27.000</td>\n",
       "      <td>0.000</td>\n",
       "      <td>2.810</td>\n",
       "      <td>100.000</td>\n",
       "      <td>...</td>\n",
       "      <td>0.0</td>\n",
       "      <td>0.214</td>\n",
       "      <td>0.784</td>\n",
       "      <td>0.0</td>\n",
       "      <td>100.000</td>\n",
       "      <td>99.533</td>\n",
       "      <td>98.837</td>\n",
       "      <td>0.000</td>\n",
       "      <td>98.319</td>\n",
       "      <td>98.163</td>\n",
       "    </tr>\n",
       "    <tr>\n",
       "      <th>4</th>\n",
       "      <td>B026E</td>\n",
       "      <td>TH2267C</td>\n",
       "      <td>Tehran</td>\n",
       "      <td>Tehran</td>\n",
       "      <td>2018-02-27 13:00:00</td>\n",
       "      <td>40.428</td>\n",
       "      <td>41.000</td>\n",
       "      <td>18.858</td>\n",
       "      <td>4.521</td>\n",
       "      <td>100.000</td>\n",
       "      <td>...</td>\n",
       "      <td>0.0</td>\n",
       "      <td>1.343</td>\n",
       "      <td>0.362</td>\n",
       "      <td>0.0</td>\n",
       "      <td>99.130</td>\n",
       "      <td>97.442</td>\n",
       "      <td>93.852</td>\n",
       "      <td>1.826</td>\n",
       "      <td>94.800</td>\n",
       "      <td>91.205</td>\n",
       "    </tr>\n",
       "  </tbody>\n",
       "</table>\n",
       "<p>5 rows × 23 columns</p>\n",
       "</div>"
      ],
      "text/plain": [
       "     BSC     CELL  REGION PROVINCE                 Date  TCH_Traffic_BH  \\\n",
       "0  B026E  TH4069B  Tehran   Tehran  2018-02-27 14:00:00           0.181   \n",
       "1  B026E  TH5093A  Tehran   Tehran  2018-02-27 12:00:00           5.881   \n",
       "2  B026E  TH0038B  Tehran   Tehran  2018-02-27 11:00:00          29.272   \n",
       "3  B026E  TH2095C  Tehran   Tehran  2018-02-27 20:00:00           7.700   \n",
       "4  B026E  TH2267C  Tehran   Tehran  2018-02-27 13:00:00          40.428   \n",
       "\n",
       "   Available_TCH  HTCH_Traffic  SDCCH_MHT  TCH_Availability      ...       \\\n",
       "0         13.000         0.008      2.333           100.000      ...        \n",
       "1         20.000         0.006      3.229           100.000      ...        \n",
       "2         35.989         9.433      3.375            99.969      ...        \n",
       "3         27.000         0.000      2.810           100.000      ...        \n",
       "4         41.000        18.858      4.521           100.000      ...        \n",
       "\n",
       "   SDCCH_Congestion_Rate  SDCCH_Drop_Rate  TCH_Assignment_FR  TCH_Cong_Rate  \\\n",
       "0                    0.0            0.000                NaN            NaN   \n",
       "1                    0.0            0.000              0.000            0.0   \n",
       "2                    0.0            0.521              0.063            0.0   \n",
       "3                    0.0            0.214              0.784            0.0   \n",
       "4                    0.0            1.343              0.362            0.0   \n",
       "\n",
       "      IHSR     OHSR  SDCCH_Access_Success_Rate    CDR  RxQuality_DL  \\\n",
       "0  100.000  100.000                    100.000  0.000       100.000   \n",
       "1   87.640   99.038                     99.600  0.000        95.857   \n",
       "2  100.069   99.599                     96.286  0.257        98.538   \n",
       "3  100.000   99.533                     98.837  0.000        98.319   \n",
       "4   99.130   97.442                     93.852  1.826        94.800   \n",
       "\n",
       "   RxQuality_UL  \n",
       "0        98.064  \n",
       "1        99.676  \n",
       "2        97.010  \n",
       "3        98.163  \n",
       "4        91.205  \n",
       "\n",
       "[5 rows x 23 columns]"
      ]
     },
     "execution_count": 67,
     "metadata": {},
     "output_type": "execute_result"
    }
   ],
   "source": [
    "df.head()"
   ]
  },
  {
   "cell_type": "code",
   "execution_count": 21,
   "metadata": {},
   "outputs": [
    {
     "data": {
      "text/plain": [
       "1.2500720388068514"
      ]
     },
     "execution_count": 21,
     "metadata": {},
     "output_type": "execute_result"
    }
   ],
   "source": [
    "np.std(df['SDCCH_Congestion_Rate'])"
   ]
  },
  {
   "cell_type": "code",
   "execution_count": 22,
   "metadata": {},
   "outputs": [
    {
     "data": {
      "text/plain": [
       "0.0674764269740141"
      ]
     },
     "execution_count": 22,
     "metadata": {},
     "output_type": "execute_result"
    }
   ],
   "source": [
    "np.mean(df['SDCCH_Congestion_Rate'])"
   ]
  },
  {
   "cell_type": "code",
   "execution_count": 23,
   "metadata": {},
   "outputs": [
    {
     "data": {
      "text/html": [
       "<div>\n",
       "<style scoped>\n",
       "    .dataframe tbody tr th:only-of-type {\n",
       "        vertical-align: middle;\n",
       "    }\n",
       "\n",
       "    .dataframe tbody tr th {\n",
       "        vertical-align: top;\n",
       "    }\n",
       "\n",
       "    .dataframe thead th {\n",
       "        text-align: right;\n",
       "    }\n",
       "</style>\n",
       "<table border=\"1\" class=\"dataframe\">\n",
       "  <thead>\n",
       "    <tr style=\"text-align: right;\">\n",
       "      <th></th>\n",
       "      <th>CELL</th>\n",
       "      <th>SDCCH_Congestion_Rate</th>\n",
       "    </tr>\n",
       "  </thead>\n",
       "  <tbody>\n",
       "    <tr>\n",
       "      <th>0</th>\n",
       "      <td>AG1G0001A</td>\n",
       "      <td>0.000000</td>\n",
       "    </tr>\n",
       "    <tr>\n",
       "      <th>1</th>\n",
       "      <td>AG1G0001B</td>\n",
       "      <td>0.573643</td>\n",
       "    </tr>\n",
       "    <tr>\n",
       "      <th>2</th>\n",
       "      <td>AG1G0001C</td>\n",
       "      <td>0.000000</td>\n",
       "    </tr>\n",
       "    <tr>\n",
       "      <th>3</th>\n",
       "      <td>AG1G0002A</td>\n",
       "      <td>0.000000</td>\n",
       "    </tr>\n",
       "    <tr>\n",
       "      <th>4</th>\n",
       "      <td>AG1G0002B</td>\n",
       "      <td>2.925357</td>\n",
       "    </tr>\n",
       "  </tbody>\n",
       "</table>\n",
       "</div>"
      ],
      "text/plain": [
       "        CELL  SDCCH_Congestion_Rate\n",
       "0  AG1G0001A               0.000000\n",
       "1  AG1G0001B               0.573643\n",
       "2  AG1G0001C               0.000000\n",
       "3  AG1G0002A               0.000000\n",
       "4  AG1G0002B               2.925357"
      ]
     },
     "execution_count": 23,
     "metadata": {},
     "output_type": "execute_result"
    }
   ],
   "source": [
    "df2=df.groupby(by='CELL',as_index=False)['SDCCH_Congestion_Rate'].mean()\n",
    "df2.head()"
   ]
  },
  {
   "cell_type": "code",
   "execution_count": 36,
   "metadata": {},
   "outputs": [],
   "source": [
    "df2['SDCCH_Congestion_Rate_STD']=df.groupby(by='CELL')['SDCCH_Congestion_Rate'].std()"
   ]
  },
  {
   "cell_type": "code",
   "execution_count": 95,
   "metadata": {},
   "outputs": [],
   "source": [
    "df_mean=[]\n",
    "df_STD=[]\n",
    "\n",
    "for f in df.columns[5:23]:\n",
    "    df_mean.append(df.groupby(by='CELL')[f].mean())\n",
    "    df_STD.append(df.groupby(by='CELL')[f].std())\n",
    "mean=pd.DataFrame(df_mean)\n",
    "Standard_dev=pd.DataFrame(df_STD)"
   ]
  },
  {
   "cell_type": "code",
   "execution_count": 98,
   "metadata": {
    "scrolled": true
   },
   "outputs": [],
   "source": [
    "mean=mean.transpose()"
   ]
  },
  {
   "cell_type": "code",
   "execution_count": 100,
   "metadata": {},
   "outputs": [],
   "source": [
    "Standard_dev=Standard_dev.transpose()"
   ]
  },
  {
   "cell_type": "code",
   "execution_count": 105,
   "metadata": {},
   "outputs": [],
   "source": [
    "merged_before=pd.merge(mean,Standard_dev,how='left',on='CELL')"
   ]
  },
  {
   "cell_type": "code",
   "execution_count": 109,
   "metadata": {
    "scrolled": true
   },
   "outputs": [],
   "source": [
    "merged_before.to_excel(r'D:\\MCI Performance Pro\\2019 Daily jobs\\Saeed Requests\\CC2_BH_Befor.xlsx')"
   ]
  },
  {
   "cell_type": "code",
   "execution_count": 77,
   "metadata": {},
   "outputs": [
    {
     "data": {
      "text/plain": [
       "Index(['TCH_Traffic_BH', 'Available_TCH', 'HTCH_Traffic', 'SDCCH_MHT',\n",
       "       'TCH_Availability', 'AMRFR_Usage', 'AMRHR_Usage', 'CSSR_MCI',\n",
       "       'SDCCH_Congestion_Rate', 'SDCCH_Drop_Rate', 'TCH_Assignment_FR',\n",
       "       'TCH_Cong_Rate', 'IHSR', 'OHSR', 'SDCCH_Access_Success_Rate', 'CDR',\n",
       "       'RxQuality_DL', 'RxQuality_UL'],\n",
       "      dtype='object')"
      ]
     },
     "execution_count": 77,
     "metadata": {},
     "output_type": "execute_result"
    }
   ],
   "source": [
    "df.columns[5:23]"
   ]
  },
  {
   "cell_type": "code",
   "execution_count": 110,
   "metadata": {},
   "outputs": [],
   "source": [
    "dfafter=pd.read_csv(r'D:\\MCI Performance Pro\\2019 Daily jobs\\Saeed Requests\\CC2_BH_After.csv')"
   ]
  },
  {
   "cell_type": "code",
   "execution_count": 111,
   "metadata": {},
   "outputs": [
    {
     "data": {
      "text/html": [
       "<div>\n",
       "<style scoped>\n",
       "    .dataframe tbody tr th:only-of-type {\n",
       "        vertical-align: middle;\n",
       "    }\n",
       "\n",
       "    .dataframe tbody tr th {\n",
       "        vertical-align: top;\n",
       "    }\n",
       "\n",
       "    .dataframe thead th {\n",
       "        text-align: right;\n",
       "    }\n",
       "</style>\n",
       "<table border=\"1\" class=\"dataframe\">\n",
       "  <thead>\n",
       "    <tr style=\"text-align: right;\">\n",
       "      <th></th>\n",
       "      <th>BSC</th>\n",
       "      <th>CELL</th>\n",
       "      <th>REGION</th>\n",
       "      <th>PROVINCE</th>\n",
       "      <th>Date</th>\n",
       "      <th>TCH_Traffic_BH</th>\n",
       "      <th>Available_TCH</th>\n",
       "      <th>HTCH_Traffic</th>\n",
       "      <th>SDCCH_MHT</th>\n",
       "      <th>TCH_Availability</th>\n",
       "      <th>...</th>\n",
       "      <th>SDCCH_Congestion_Rate</th>\n",
       "      <th>SDCCH_Drop_Rate</th>\n",
       "      <th>TCH_Assignment_FR</th>\n",
       "      <th>TCH_Cong_Rate</th>\n",
       "      <th>IHSR</th>\n",
       "      <th>OHSR</th>\n",
       "      <th>SDCCH_Access_Success_Rate</th>\n",
       "      <th>CDR</th>\n",
       "      <th>RxQuality_DL</th>\n",
       "      <th>RxQuality_UL</th>\n",
       "    </tr>\n",
       "  </thead>\n",
       "  <tbody>\n",
       "    <tr>\n",
       "      <th>0</th>\n",
       "      <td>B040E</td>\n",
       "      <td>TH0941B</td>\n",
       "      <td>Tehran</td>\n",
       "      <td>Tehran</td>\n",
       "      <td>2018-03-29 10:00:00</td>\n",
       "      <td>6.386</td>\n",
       "      <td>29.0</td>\n",
       "      <td>0.000</td>\n",
       "      <td>3.046</td>\n",
       "      <td>100.0</td>\n",
       "      <td>...</td>\n",
       "      <td>0.0</td>\n",
       "      <td>0.117</td>\n",
       "      <td>0.000</td>\n",
       "      <td>0.0</td>\n",
       "      <td>100.000</td>\n",
       "      <td>100.000</td>\n",
       "      <td>99.708</td>\n",
       "      <td>0.329</td>\n",
       "      <td>99.623</td>\n",
       "      <td>99.773</td>\n",
       "    </tr>\n",
       "    <tr>\n",
       "      <th>1</th>\n",
       "      <td>B040E</td>\n",
       "      <td>TH1485C</td>\n",
       "      <td>Tehran</td>\n",
       "      <td>Tehran</td>\n",
       "      <td>2018-03-29 20:00:00</td>\n",
       "      <td>4.494</td>\n",
       "      <td>25.0</td>\n",
       "      <td>0.000</td>\n",
       "      <td>3.663</td>\n",
       "      <td>100.0</td>\n",
       "      <td>...</td>\n",
       "      <td>0.0</td>\n",
       "      <td>0.413</td>\n",
       "      <td>0.610</td>\n",
       "      <td>0.0</td>\n",
       "      <td>97.244</td>\n",
       "      <td>97.786</td>\n",
       "      <td>94.473</td>\n",
       "      <td>1.351</td>\n",
       "      <td>88.199</td>\n",
       "      <td>98.484</td>\n",
       "    </tr>\n",
       "    <tr>\n",
       "      <th>2</th>\n",
       "      <td>B040E</td>\n",
       "      <td>TH2156B</td>\n",
       "      <td>Tehran</td>\n",
       "      <td>Tehran</td>\n",
       "      <td>2018-03-29 13:00:00</td>\n",
       "      <td>4.975</td>\n",
       "      <td>29.0</td>\n",
       "      <td>0.000</td>\n",
       "      <td>3.637</td>\n",
       "      <td>100.0</td>\n",
       "      <td>...</td>\n",
       "      <td>0.0</td>\n",
       "      <td>0.932</td>\n",
       "      <td>1.156</td>\n",
       "      <td>0.0</td>\n",
       "      <td>98.644</td>\n",
       "      <td>98.630</td>\n",
       "      <td>98.621</td>\n",
       "      <td>1.734</td>\n",
       "      <td>99.148</td>\n",
       "      <td>96.168</td>\n",
       "    </tr>\n",
       "    <tr>\n",
       "      <th>3</th>\n",
       "      <td>B040E</td>\n",
       "      <td>TH2327B</td>\n",
       "      <td>Tehran</td>\n",
       "      <td>Tehran</td>\n",
       "      <td>2018-03-29 11:00:00</td>\n",
       "      <td>6.131</td>\n",
       "      <td>35.0</td>\n",
       "      <td>0.078</td>\n",
       "      <td>3.333</td>\n",
       "      <td>100.0</td>\n",
       "      <td>...</td>\n",
       "      <td>0.0</td>\n",
       "      <td>0.217</td>\n",
       "      <td>0.000</td>\n",
       "      <td>0.0</td>\n",
       "      <td>98.805</td>\n",
       "      <td>97.348</td>\n",
       "      <td>97.775</td>\n",
       "      <td>0.315</td>\n",
       "      <td>95.918</td>\n",
       "      <td>98.427</td>\n",
       "    </tr>\n",
       "    <tr>\n",
       "      <th>4</th>\n",
       "      <td>B040E</td>\n",
       "      <td>TH0139C</td>\n",
       "      <td>Tehran</td>\n",
       "      <td>Tehran</td>\n",
       "      <td>2018-03-29 20:00:00</td>\n",
       "      <td>4.161</td>\n",
       "      <td>28.0</td>\n",
       "      <td>0.000</td>\n",
       "      <td>3.983</td>\n",
       "      <td>100.0</td>\n",
       "      <td>...</td>\n",
       "      <td>0.0</td>\n",
       "      <td>0.561</td>\n",
       "      <td>0.000</td>\n",
       "      <td>0.0</td>\n",
       "      <td>99.441</td>\n",
       "      <td>100.000</td>\n",
       "      <td>96.351</td>\n",
       "      <td>0.725</td>\n",
       "      <td>97.279</td>\n",
       "      <td>96.172</td>\n",
       "    </tr>\n",
       "  </tbody>\n",
       "</table>\n",
       "<p>5 rows × 23 columns</p>\n",
       "</div>"
      ],
      "text/plain": [
       "     BSC     CELL  REGION PROVINCE                 Date  TCH_Traffic_BH  \\\n",
       "0  B040E  TH0941B  Tehran   Tehran  2018-03-29 10:00:00           6.386   \n",
       "1  B040E  TH1485C  Tehran   Tehran  2018-03-29 20:00:00           4.494   \n",
       "2  B040E  TH2156B  Tehran   Tehran  2018-03-29 13:00:00           4.975   \n",
       "3  B040E  TH2327B  Tehran   Tehran  2018-03-29 11:00:00           6.131   \n",
       "4  B040E  TH0139C  Tehran   Tehran  2018-03-29 20:00:00           4.161   \n",
       "\n",
       "   Available_TCH  HTCH_Traffic  SDCCH_MHT  TCH_Availability      ...       \\\n",
       "0           29.0         0.000      3.046             100.0      ...        \n",
       "1           25.0         0.000      3.663             100.0      ...        \n",
       "2           29.0         0.000      3.637             100.0      ...        \n",
       "3           35.0         0.078      3.333             100.0      ...        \n",
       "4           28.0         0.000      3.983             100.0      ...        \n",
       "\n",
       "   SDCCH_Congestion_Rate  SDCCH_Drop_Rate  TCH_Assignment_FR  TCH_Cong_Rate  \\\n",
       "0                    0.0            0.117              0.000            0.0   \n",
       "1                    0.0            0.413              0.610            0.0   \n",
       "2                    0.0            0.932              1.156            0.0   \n",
       "3                    0.0            0.217              0.000            0.0   \n",
       "4                    0.0            0.561              0.000            0.0   \n",
       "\n",
       "      IHSR     OHSR  SDCCH_Access_Success_Rate    CDR  RxQuality_DL  \\\n",
       "0  100.000  100.000                     99.708  0.329        99.623   \n",
       "1   97.244   97.786                     94.473  1.351        88.199   \n",
       "2   98.644   98.630                     98.621  1.734        99.148   \n",
       "3   98.805   97.348                     97.775  0.315        95.918   \n",
       "4   99.441  100.000                     96.351  0.725        97.279   \n",
       "\n",
       "   RxQuality_UL  \n",
       "0        99.773  \n",
       "1        98.484  \n",
       "2        96.168  \n",
       "3        98.427  \n",
       "4        96.172  \n",
       "\n",
       "[5 rows x 23 columns]"
      ]
     },
     "execution_count": 111,
     "metadata": {},
     "output_type": "execute_result"
    }
   ],
   "source": [
    "dfafter.head()"
   ]
  },
  {
   "cell_type": "code",
   "execution_count": 116,
   "metadata": {},
   "outputs": [],
   "source": [
    "df_mean_After=[]\n",
    "df_STD_After=[]\n",
    "\n",
    "for j in dfafter.columns[5:23]:\n",
    "    df_mean_After.append(df.groupby(by='CELL')[j].mean())\n",
    "    df_STD_After.append(df.groupby(by='CELL')[j].std())\n",
    "mean_After=pd.DataFrame(df_mean_After)\n",
    "Standard_dev_After=pd.DataFrame(df_STD_After)"
   ]
  },
  {
   "cell_type": "code",
   "execution_count": 117,
   "metadata": {},
   "outputs": [],
   "source": [
    "mean_After=mean_After.transpose()\n",
    "Standard_dev_After=Standard_dev_After.transpose()"
   ]
  },
  {
   "cell_type": "code",
   "execution_count": 120,
   "metadata": {},
   "outputs": [],
   "source": [
    "merged_after=pd.merge(mean_After,Standard_dev_After,how='left',on='CELL')"
   ]
  },
  {
   "cell_type": "code",
   "execution_count": 121,
   "metadata": {},
   "outputs": [],
   "source": [
    "merged_after.to_excel(r'D:\\MCI Performance Pro\\2019 Daily jobs\\Saeed Requests\\CC2_BH_After.xlsx')"
   ]
  },
  {
   "cell_type": "code",
   "execution_count": 2,
   "metadata": {},
   "outputs": [],
   "source": [
    "dfbeforecc3=pd.read_csv(r'D:\\MCI Performance Pro\\2019 Daily jobs\\Saeed Requests\\CC3_BH_Before.csv')"
   ]
  },
  {
   "cell_type": "code",
   "execution_count": 11,
   "metadata": {},
   "outputs": [
    {
     "data": {
      "text/plain": [
       "Index(['CS_Erlang', 'traffic24h', 'CS_RRC_Connection_Establishment_SR',\n",
       "       'CS_RAB_Setup_Success_Ratio', 'Softer_Handover_Success_Ratio',\n",
       "       'CS_RAB_Setup_Congestion_Rate', 'Radio_Network_Availability_Ratio',\n",
       "       'BLER_AMR', 'CS_IRAT_HO_SR', 'AMR_Call_Drop_Ratio',\n",
       "       'CSPS_RAB_Setup_Success_Ratio',\n",
       "       'InterFrequency_Hardhandover_success_Ratio_CSservice', 'CS_CSSR',\n",
       "       'RRC_Setup_Success_Ratio', 'Soft_Handover_Succ_Rate',\n",
       "       'Inter_Carrier_HO_Success_Rate', 'CS_RRC_Setup_SR_URA_PCH',\n",
       "       'CS_CSSR_URA_PCH'],\n",
       "      dtype='object')"
      ]
     },
     "execution_count": 11,
     "metadata": {},
     "output_type": "execute_result"
    }
   ],
   "source": [
    "dfbeforecc3.columns[3:21]"
   ]
  },
  {
   "cell_type": "code",
   "execution_count": 12,
   "metadata": {},
   "outputs": [],
   "source": [
    "df_mean_beforecc3=[]\n",
    "df_STD_beforecc3=[]\n",
    "\n",
    "for j in dfbeforecc3.columns[3:21]:\n",
    "    df_mean_beforecc3.append(dfbeforecc3.groupby(by='ElementID1')[j].mean())\n",
    "    df_STD_beforecc3.append(dfbeforecc3.groupby(by='ElementID1')[j].std())\n",
    "mean_before=pd.DataFrame(df_mean_beforecc3)\n",
    "Standard_dev_before=pd.DataFrame(df_STD_beforecc3)"
   ]
  },
  {
   "cell_type": "code",
   "execution_count": 13,
   "metadata": {},
   "outputs": [],
   "source": [
    "mean_before=mean_before.transpose()\n",
    "Standard_dev_before=Standard_dev_before.transpose()"
   ]
  },
  {
   "cell_type": "code",
   "execution_count": 15,
   "metadata": {},
   "outputs": [],
   "source": [
    "merged_before=pd.merge(mean_before,Standard_dev_before,how='left',on='ElementID1')"
   ]
  },
  {
   "cell_type": "code",
   "execution_count": 16,
   "metadata": {},
   "outputs": [],
   "source": [
    "merged_before.to_excel(r'D:\\MCI Performance Pro\\2019 Daily jobs\\Saeed Requests\\CC3_BH_Before.xlsx')"
   ]
  },
  {
   "cell_type": "code",
   "execution_count": 17,
   "metadata": {},
   "outputs": [],
   "source": [
    "dfaftercc3=pd.read_csv(r'D:\\MCI Performance Pro\\2019 Daily jobs\\Saeed Requests\\CC3_BH_After.csv')"
   ]
  },
  {
   "cell_type": "code",
   "execution_count": 18,
   "metadata": {},
   "outputs": [],
   "source": [
    "df_mean_aftercc3=[]\n",
    "df_STD_aftercc3=[]\n",
    "\n",
    "for j in dfaftercc3.columns[3:21]:\n",
    "    df_mean_aftercc3.append(dfaftercc3.groupby(by='ElementID1')[j].mean())\n",
    "    df_STD_aftercc3.append(dfaftercc3.groupby(by='ElementID1')[j].std())\n",
    "mean_aftercc3=pd.DataFrame(df_mean_aftercc3)\n",
    "Standard_dev_aftercc3=pd.DataFrame(df_STD_aftercc3)"
   ]
  },
  {
   "cell_type": "code",
   "execution_count": 19,
   "metadata": {},
   "outputs": [],
   "source": [
    "mean_aftercc3=mean_aftercc3.transpose()\n",
    "Standard_dev_aftercc3=Standard_dev_aftercc3.transpose()"
   ]
  },
  {
   "cell_type": "code",
   "execution_count": 20,
   "metadata": {},
   "outputs": [],
   "source": [
    "merged_aftercc3=pd.merge(mean_aftercc3,Standard_dev_aftercc3,how='left',on='ElementID1')"
   ]
  },
  {
   "cell_type": "code",
   "execution_count": 21,
   "metadata": {},
   "outputs": [],
   "source": [
    "merged_aftercc3.to_excel(r'D:\\MCI Performance Pro\\2019 Daily jobs\\Saeed Requests\\CC3_BH_After.xlsx')"
   ]
  },
  {
   "cell_type": "code",
   "execution_count": 22,
   "metadata": {},
   "outputs": [],
   "source": [
    "dfbeforerd3=pd.read_csv(r'D:\\MCI Performance Pro\\2019 Daily jobs\\Saeed Requests\\RD3_BH_Before.csv')"
   ]
  },
  {
   "cell_type": "code",
   "execution_count": 28,
   "metadata": {},
   "outputs": [],
   "source": [
    "df_mean_beforerd3=[]\n",
    "df_STD_beforerd3=[]\n",
    "\n",
    "for j in dfbeforerd3.columns[4:36]:\n",
    "    df_mean_beforerd3.append(dfbeforerd3.groupby(by='ElementID1')[j].mean())\n",
    "    df_STD_beforerd3.append(dfbeforerd3.groupby(by='ElementID1')[j].std())\n",
    "mean_beforerd3=pd.DataFrame(df_mean_beforerd3)\n",
    "Standard_dev_beforerd3=pd.DataFrame(df_STD_beforerd3)"
   ]
  },
  {
   "cell_type": "code",
   "execution_count": 29,
   "metadata": {},
   "outputs": [],
   "source": [
    "mean_beforerd3=mean_beforerd3.transpose()\n",
    "Standard_dev_beforerd3=Standard_dev_beforerd3.transpose()"
   ]
  },
  {
   "cell_type": "code",
   "execution_count": 30,
   "metadata": {},
   "outputs": [],
   "source": [
    "merged_beforerd3=pd.merge(mean_beforerd3,Standard_dev_beforerd3,how='left',on='ElementID1')"
   ]
  },
  {
   "cell_type": "code",
   "execution_count": 31,
   "metadata": {},
   "outputs": [],
   "source": [
    "merged_beforerd3.to_excel(r'D:\\MCI Performance Pro\\2019 Daily jobs\\Saeed Requests\\RD3_BH_Before.xlsx')"
   ]
  },
  {
   "cell_type": "code",
   "execution_count": 32,
   "metadata": {},
   "outputs": [],
   "source": [
    "dfafterrd3=pd.read_csv(r'D:\\MCI Performance Pro\\2019 Daily jobs\\Saeed Requests\\RD3_BH_After.csv')"
   ]
  },
  {
   "cell_type": "code",
   "execution_count": 33,
   "metadata": {},
   "outputs": [],
   "source": [
    "df_mean_afterrd3=[]\n",
    "df_STD_afterrd3=[]\n",
    "\n",
    "for j in dfafterrd3.columns[4:36]:\n",
    "    df_mean_afterrd3.append(dfafterrd3.groupby(by='ElementID1')[j].mean())\n",
    "    df_STD_afterrd3.append(dfafterrd3.groupby(by='ElementID1')[j].std())\n",
    "mean_afterrd3=pd.DataFrame(df_mean_afterrd3)\n",
    "Standard_dev_afterrd3=pd.DataFrame(df_STD_afterrd3)"
   ]
  },
  {
   "cell_type": "code",
   "execution_count": 34,
   "metadata": {},
   "outputs": [],
   "source": [
    "mean_afterrd3=mean_afterrd3.transpose()\n",
    "Standard_dev_afterrd3=Standard_dev_afterrd3.transpose()"
   ]
  },
  {
   "cell_type": "code",
   "execution_count": 35,
   "metadata": {},
   "outputs": [],
   "source": [
    "merged_afterrd3=pd.merge(mean_afterrd3,Standard_dev_afterrd3,how='left',on='ElementID1')"
   ]
  },
  {
   "cell_type": "code",
   "execution_count": 36,
   "metadata": {},
   "outputs": [],
   "source": [
    "merged_afterrd3.to_excel(r'D:\\MCI Performance Pro\\2019 Daily jobs\\Saeed Requests\\RD3_BH_After.xlsx')"
   ]
  },
  {
   "cell_type": "code",
   "execution_count": 52,
   "metadata": {},
   "outputs": [],
   "source": [
    "dfbeforerd4=pd.read_csv(r'D:\\MCI Performance Pro\\2019 Daily jobs\\Saeed Requests\\RD4_BH_Before.csv')"
   ]
  },
  {
   "cell_type": "code",
   "execution_count": 53,
   "metadata": {},
   "outputs": [],
   "source": [
    "df_mean_beforerd4=[]\n",
    "df_STD_beforerd4=[]\n",
    "\n",
    "for k in dfbeforerd4.columns[5:43]:\n",
    "    df_mean_beforerd4.append(dfbeforerd4.groupby(by='eNodeB')[k].mean())\n",
    "    df_STD_beforerd4.append(dfbeforerd4.groupby(by='eNodeB')[k].std())\n",
    "mean_beforerd4=pd.DataFrame(df_mean_beforerd4)\n",
    "Standard_dev_beforerd4=pd.DataFrame(df_STD_beforerd4)"
   ]
  },
  {
   "cell_type": "code",
   "execution_count": 55,
   "metadata": {},
   "outputs": [],
   "source": [
    "mean_beforerd4=mean_beforerd4.transpose()\n",
    "Standard_dev_beforerd4=Standard_dev_beforerd4.transpose()"
   ]
  },
  {
   "cell_type": "code",
   "execution_count": 57,
   "metadata": {},
   "outputs": [],
   "source": [
    "merged_beforerd4=pd.merge(mean_beforerd4,Standard_dev_beforerd4,how='left',on='eNodeB')"
   ]
  },
  {
   "cell_type": "code",
   "execution_count": 58,
   "metadata": {},
   "outputs": [],
   "source": [
    "merged_beforerd4.to_excel(r'D:\\MCI Performance Pro\\2019 Daily jobs\\Saeed Requests\\RD4_BH_Before.xlsx')"
   ]
  },
  {
   "cell_type": "code",
   "execution_count": 61,
   "metadata": {},
   "outputs": [],
   "source": [
    "dfafterrd4=pd.read_csv(r'D:\\MCI Performance Pro\\2019 Daily jobs\\Saeed Requests\\RD4_BH_After.csv')"
   ]
  },
  {
   "cell_type": "code",
   "execution_count": 62,
   "metadata": {},
   "outputs": [],
   "source": [
    "df_mean_afterrd4=[]\n",
    "df_STD_afterrd4=[]\n",
    "\n",
    "for k in dfafterrd4.columns[5:43]:\n",
    "    df_mean_afterrd4.append(dfafterrd4.groupby(by='eNodeB')[k].mean())\n",
    "    df_STD_afterrd4.append(dfafterrd4.groupby(by='eNodeB')[k].std())\n",
    "mean_afterrd4=pd.DataFrame(df_mean_afterrd4)\n",
    "Standard_dev_afterrd4=pd.DataFrame(df_STD_afterrd4)"
   ]
  },
  {
   "cell_type": "code",
   "execution_count": 63,
   "metadata": {},
   "outputs": [],
   "source": [
    "mean_afterrd4=mean_afterrd4.transpose()\n",
    "Standard_dev_afterrd4=Standard_dev_afterrd4.transpose()"
   ]
  },
  {
   "cell_type": "code",
   "execution_count": 64,
   "metadata": {},
   "outputs": [],
   "source": [
    "merged_afterrd4=pd.merge(mean_afterrd4,Standard_dev_afterrd4,how='left',on='eNodeB')"
   ]
  },
  {
   "cell_type": "code",
   "execution_count": 65,
   "metadata": {},
   "outputs": [],
   "source": [
    "merged_afterrd4.to_excel(r'D:\\MCI Performance Pro\\2019 Daily jobs\\Saeed Requests\\RD4_BH_After.xlsx')"
   ]
  },
  {
   "cell_type": "code",
   "execution_count": null,
   "metadata": {},
   "outputs": [],
   "source": []
  }
 ],
 "metadata": {
  "kernelspec": {
   "display_name": "Python 3",
   "language": "python",
   "name": "python3"
  },
  "language_info": {
   "codemirror_mode": {
    "name": "ipython",
    "version": 3
   },
   "file_extension": ".py",
   "mimetype": "text/x-python",
   "name": "python",
   "nbconvert_exporter": "python",
   "pygments_lexer": "ipython3",
   "version": "3.6.5"
  }
 },
 "nbformat": 4,
 "nbformat_minor": 2
}
